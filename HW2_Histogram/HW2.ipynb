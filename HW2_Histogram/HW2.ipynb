{
 "cells": [
  {
   "cell_type": "markdown",
   "metadata": {},
   "source": [
    "### Module Import\n"
   ]
  },
  {
   "cell_type": "code",
   "execution_count": 1,
   "metadata": {},
   "outputs": [],
   "source": [
    "import os\n",
    "import numpy as np\n",
    "import matplotlib.pyplot as plt\n",
    "from PIL import Image"
   ]
  },
  {
   "cell_type": "markdown",
   "metadata": {},
   "source": [
    "#### (a) Plot the Histogram 관련 메서드"
   ]
  },
  {
   "cell_type": "code",
   "execution_count": 2,
   "metadata": {},
   "outputs": [],
   "source": [
    "def createHistogram(imgArray):\n",
    "    bright = np.zeros(256, np.uint16)\n",
    "    for row in range(imgArray.shape[0]):\n",
    "        for col in range(imgArray.shape[1]):\n",
    "            curPix = imgArray[row, col]\n",
    "            bright[curPix] = bright[curPix] + 1\n",
    "            \n",
    "    return bright\n",
    "\n",
    "def printGraph(histogram):\n",
    "    x = np.arange(256)\n",
    "    plt.bar(x, histogram, width=1.0)\n",
    "    plt.show()\n",
    "\n",
    "def showImg(imgArray):\n",
    "    image = Image.fromarray(imgArray)\n",
    "    image.show()"
   ]
  },
  {
   "cell_type": "markdown",
   "metadata": {},
   "source": [
    "#### (b) Histogram Equalization 관련 메서드"
   ]
  },
  {
   "cell_type": "code",
   "execution_count": 3,
   "metadata": {},
   "outputs": [],
   "source": [
    "def prefixSum(histogram):\n",
    "    sum = np.zeros(255, np.uint32)\n",
    "    sum[0] = histogram[0]\n",
    "    for i in range(1, 255):\n",
    "        sum[i] = sum[i-1] + histogram[i]\n",
    "    return sum\n",
    "\n",
    "def createLUT(histogram):\n",
    "    # 누적합 구하기\n",
    "    sum = prefixSum(histogram)\n",
    "    nb_pix = sum[-1]\n",
    "    lut = np.zeros(255, np.uint32)\n",
    "    for i in range(255):\n",
    "        # 정규화된 누적 합 = (누적합 / 픽셀 수) * 최대 명도 & 반올림을 위한 +0.5 = LUT\n",
    "        lut[i] = (sum[i] / nb_pix)*255 + 0.5 \n",
    "\n",
    "    return lut\n",
    "\n",
    "def createEQ(imgArray):\n",
    "    image_EQ = imgArray.copy()\n",
    "    basic_histogram = createHistogram(image_EQ)\n",
    "    lut = createLUT(basic_histogram)\n",
    "\n",
    "    for row in range(image_EQ.shape[0]):\n",
    "        for col in range(image_EQ.shape[1]):\n",
    "            curBright = image_EQ[row, col]\n",
    "            image_EQ[row, col] = lut[curBright]\n",
    "\n",
    "    return image_EQ"
   ]
  },
  {
   "cell_type": "markdown",
   "metadata": {},
   "source": [
    "#### (c) Basic Contrast Stretching 관련 메서드"
   ]
  },
  {
   "cell_type": "code",
   "execution_count": 4,
   "metadata": {},
   "outputs": [],
   "source": [
    "def createBasicContrastStretching(imgArray):\n",
    "    image_Stretching = imgArray.copy()\n",
    "    low = np.min(image_Stretching)\n",
    "    high = np.max(image_Stretching)\n",
    "    mult = 255 / (high - low)\n",
    "    for row in range(image_Stretching.shape[0]):\n",
    "        for col in range(image_Stretching.shape[1]):\n",
    "            image_Stretching[row, col] = (image_Stretching[row, col] - low) * mult\n",
    "    \n",
    "    return image_Stretching"
   ]
  },
  {
   "cell_type": "markdown",
   "metadata": {},
   "source": [
    "#### (d) Ends-in Contrast Stretching 관련 메서드"
   ]
  },
  {
   "cell_type": "code",
   "execution_count": 18,
   "metadata": {},
   "outputs": [],
   "source": [
    "def createEndsIn(imgArray):\n",
    "    image_EndsIn = imgArray.copy()\n",
    "    low = 50\n",
    "    high = 190\n",
    "    mult = 255 / (high - low)\n",
    "    for row in range(image_EndsIn.shape[0]):\n",
    "        for col in range(image_EndsIn.shape[1]):\n",
    "            x = image_EndsIn[row, col]\n",
    "            if x<low:\n",
    "                image_EndsIn[row, col] = 0\n",
    "            elif x>high:\n",
    "                image_EndsIn[row, col] = 255\n",
    "            else:  \n",
    "                image_EndsIn[row, col] = (image_EndsIn[row, col] - low) * mult\n",
    "    return image_EndsIn\n"
   ]
  },
  {
   "cell_type": "markdown",
   "metadata": {},
   "source": [
    "### 결과 출력"
   ]
  },
  {
   "cell_type": "code",
   "execution_count": 8,
   "metadata": {},
   "outputs": [],
   "source": [
    "# load image\n",
    "file = \"./lena_bmp_512x512_new.bmp\"\n",
    "img = Image.open(file)\n",
    "img_np = np.array(img)"
   ]
  },
  {
   "cell_type": "markdown",
   "metadata": {},
   "source": [
    "#### Histogram"
   ]
  },
  {
   "cell_type": "code",
   "execution_count": 14,
   "metadata": {},
   "outputs": [
    {
     "data": {
      "image/png": "[encoded data removed]",
      "text/plain": [
       "<Figure size 432x288 with 1 Axes>"
      ]
     },
     "metadata": {
      "needs_background": "light"
     },
     "output_type": "display_data"
    }
   ],
   "source": [
    "basic_histogram = createHistogram(img_np)\n",
    "printGraph(basic_histogram)"
   ]
  },
  {
   "cell_type": "markdown",
   "metadata": {},
   "source": [
    "#### Histogram Equalization"
   ]
  },
  {
   "cell_type": "code",
   "execution_count": 15,
   "metadata": {},
   "outputs": [
    {
     "data": {
      "image/png": "[encoded data removed]",
      "text/plain": [
       "<Figure size 432x288 with 1 Axes>"
      ]
     },
     "metadata": {
      "needs_background": "light"
     },
     "output_type": "display_data"
    }
   ],
   "source": [
    "img_EQ = createEQ(img_np)\n",
    "EQ_histogram = createHistogram(img_EQ)\n",
    "printGraph(EQ_histogram)"
   ]
  },
  {
   "cell_type": "markdown",
   "metadata": {},
   "source": [
    "#### Basic Contrast Stretching"
   ]
  },
  {
   "cell_type": "code",
   "execution_count": 16,
   "metadata": {},
   "outputs": [
    {
     "data": {
      "image/png": "[encoded data removed]",
      "text/plain": [
       "<Figure size 432x288 with 1 Axes>"
      ]
     },
     "metadata": {
      "needs_background": "light"
     },
     "output_type": "display_data"
    }
   ],
   "source": [
    "img_ContrastStretching = createBasicContrastStretching(img_np)\n",
    "contrast_histogram = createHistogram(img_ContrastStretching)\n",
    "printGraph(contrast_histogram)"
   ]
  },
  {
   "cell_type": "markdown",
   "metadata": {},
   "source": [
    "#### Ends-in Contrast Stretching"
   ]
  },
  {
   "cell_type": "code",
   "execution_count": 19,
   "metadata": {},
   "outputs": [
    {
     "data": {
      "image/png": "[encoded data removed]",
      "text/plain": [
       "<Figure size 432x288 with 1 Axes>"
      ]
     },
     "metadata": {
      "needs_background": "light"
     },
     "output_type": "display_data"
    }
   ],
   "source": [
    "img_EndsIn = createEndsIn(img_np)\n",
    "endsIn_histogram = createHistogram(img_EndsIn)\n",
    "printGraph(endsIn_histogram)"
   ]
  },
  {
   "cell_type": "markdown",
   "metadata": {},
   "source": [
    "#### 사진 저장\n"
   ]
  },
  {
   "cell_type": "code",
   "execution_count": null,
   "metadata": {},
   "outputs": [],
   "source": [
    "save_EQ = Image.fromarray(img_EQ)\n",
    "save_ContrastStretching = Image.fromarray(img_ContrastStretching)\n",
    "save_EndsIn = Image.fromarray(img_EndsIn)\n",
    "\n",
    "save_EQ.save(\"Image Equalization.bmp\", 'BMP')\n",
    "save_ContrastStretching(\"Image ContrastStretching.bmp\", 'BMP')\n",
    "save_EndsIn.save(\"Image EndsIn.bmp\", 'BMP')"
   ]
  }
 ],
 "metadata": {
  "interpreter": {
   "hash": "f425847801954c65fcdb4601c17888b630d998e77533661c74a33f9c74a69db6"
  },
  "kernelspec": {
   "display_name": "Python 3.10.0 ('Winterhack_BERT')",
   "language": "python",
   "name": "python3"
  },
  "language_info": {
   "codemirror_mode": {
    "name": "ipython",
    "version": 3
   },
   "file_extension": ".py",
   "mimetype": "text/x-python",
   "name": "python",
   "nbconvert_exporter": "python",
   "pygments_lexer": "ipython3",
   "version": "3.10.0"
  },
  "orig_nbformat": 4
 },
 "nbformat": 4,
 "nbformat_minor": 2
}
